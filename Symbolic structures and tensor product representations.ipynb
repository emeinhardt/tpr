{
 "cells": [
  {
   "cell_type": "code",
   "execution_count": 43,
   "metadata": {
    "ExecuteTime": {
     "end_time": "2019-09-15T18:56:38.578828Z",
     "start_time": "2019-09-15T18:56:38.398302Z"
    }
   },
   "outputs": [],
   "source": [
    "import numpy as np\n",
    "import scipy as sp\n",
    "# import torch"
   ]
  },
  {
   "cell_type": "code",
   "execution_count": 4,
   "metadata": {
    "ExecuteTime": {
     "end_time": "2019-09-15T18:39:32.167289Z",
     "start_time": "2019-09-15T18:39:31.948250Z"
    }
   },
   "outputs": [],
   "source": [
    "from funcy import *"
   ]
  },
  {
   "cell_type": "code",
   "execution_count": 57,
   "metadata": {
    "ExecuteTime": {
     "end_time": "2019-09-15T19:07:42.433987Z",
     "start_time": "2019-09-15T19:07:42.428147Z"
    }
   },
   "outputs": [],
   "source": [
    "from functools import reduce"
   ]
  },
  {
   "cell_type": "code",
   "execution_count": null,
   "metadata": {},
   "outputs": [],
   "source": [
    "#TODO:\n",
    "# recursive filler role bindings + tree examples; \n",
    "# ...\n",
    "# systematize into something more library shaped"
   ]
  },
  {
   "cell_type": "markdown",
   "metadata": {},
   "source": [
    "# Local representations and familiar symbolic operations on them"
   ]
  },
  {
   "cell_type": "markdown",
   "metadata": {},
   "source": [
    "Running example of a binary relation + code for creating local representations ('one hot vectors'), taken largely from https://www.cse.unsw.edu.au/~billw/cs9444/tensor-stuff/tensor-intro-04.html"
   ]
  },
  {
   "cell_type": "markdown",
   "metadata": {},
   "source": [
    "`animal_food_dl` represents a binary relation between a finite set of `Animals` and a finite set of `Foods`:"
   ]
  },
  {
   "cell_type": "code",
   "execution_count": 144,
   "metadata": {
    "ExecuteTime": {
     "end_time": "2019-09-15T20:57:47.596506Z",
     "start_time": "2019-09-15T20:57:47.588937Z"
    }
   },
   "outputs": [
    {
     "data": {
      "text/plain": [
       "({'crocodile', 'guineapig', 'mouse', 'rabbit'},\n",
       " {'carrot', 'cheese', 'lecturer', 'lettuce', 'student'})"
      ]
     },
     "execution_count": 144,
     "metadata": {},
     "output_type": "execute_result"
    }
   ],
   "source": [
    "animal_food_dl = (\n",
    "    {'Animal':'rabbit', 'Food':'carrot'}, \n",
    "    {'Animal':'mouse', 'Food':'cheese'}, \n",
    "    {'Animal':'crocodile', 'Food':'student'},\n",
    "    {'Animal':'rabbit', 'Food':'lettuce'},\n",
    "    {'Animal':'guineapig', 'Food':'carrot'},\n",
    "    {'Animal':'crocodile', 'Food': 'lecturer'}\n",
    ")\n",
    "\n",
    "animal_food_t = (\n",
    "    ('rabbit','carrot'), \n",
    "    ('mouse','cheese'), \n",
    "    ('crocodile','student'),\n",
    "    ('rabbit','lettuce'),\n",
    "    ('guineapig','carrot'),\n",
    "    ('crocodile', 'lecturer')\n",
    ")\n",
    "\n",
    "animal_foods_dict = {\n",
    "    'mouse': {'cheese'},\n",
    "    'crocodile': {'student', 'lecturer'},\n",
    "    'rabbit': {'carrot', 'lettuce'},\n",
    "    'guineapig': {'carrot'}\n",
    "}\n",
    "\n",
    "Animals = set(pluck('Animal', animal_food_dl))\n",
    "Foods = set(pluck('Food', animal_food_dl))\n",
    "\n",
    "Animals, Foods\n",
    "Animals_t, Foods_t = tuple(sorted(Animals)), tuple(sorted(Foods))\n",
    "\n",
    "AnimalsFoods = set.union(Animals, Foods)\n",
    "AnimalsFoods_t = tuple(sorted(AnimalsFoods))"
   ]
  },
  {
   "cell_type": "code",
   "execution_count": 48,
   "metadata": {
    "ExecuteTime": {
     "end_time": "2019-09-15T19:03:08.174096Z",
     "start_time": "2019-09-15T19:03:08.168939Z"
    }
   },
   "outputs": [],
   "source": [
    "def rev(t):\n",
    "    return tuple(reversed(t))\n",
    "\n",
    "def seqToIndexMap(seq):\n",
    "    sorted_seq = sorted(seq)\n",
    "    myIndexMap = dict(map(rev, enumerate(sorted_seq)))\n",
    "    return myIndexMap\n",
    "\n",
    "def indexToSeqMap(seq):\n",
    "    sorted_seq = sorted(seq)\n",
    "    mySeqMap = dict(enumerate(sorted_seq))\n",
    "    return mySeqMap\n",
    "\n",
    "def seqMapToOneHots(seqMap):\n",
    "    n = len(seqMap.keys())\n",
    "    one_hots = np.zeros((n,n), dtype=np.uint8)\n",
    "    for (seq, idx) in seqMap.items():\n",
    "        one_hots[idx][idx] = 1.0\n",
    "    return one_hots\n",
    "\n",
    "def xToOneHot(x, seqMap, oneHots):\n",
    "    return oneHots[seqMap[x]]\n",
    "\n",
    "def seqToOneHotMap(seq):\n",
    "    seqMap = seqToIndexMap(seq)\n",
    "    oneHots = seqMapToOneHots(seqMap)\n",
    "    return {seq:oneHots[seqMap[seq]]\n",
    "            for seq in seqMap}\n",
    "\n",
    "def oneHotToSeqMap(seq):\n",
    "    sorted_seq = sorted(seq)\n",
    "    seqToOHmap = seqToOneHotMap(seq)\n",
    "    seqToOHmap_t = walk_values(tuple, seqToOHmap)\n",
    "#     seqToOHmap_t = mapValues(tuple, seqToOHmap)\n",
    "    OHtoSeq_dict = dict(map(rev, seqToOHmap_t.items()))\n",
    "    def OHtoSeq(OH_vector):\n",
    "        OH_t = tuple(OH_vector)\n",
    "        return OHtoSeq_dict[OH_t]\n",
    "    return OHtoSeq"
   ]
  },
  {
   "cell_type": "code",
   "execution_count": 51,
   "metadata": {
    "ExecuteTime": {
     "end_time": "2019-09-15T19:04:56.380019Z",
     "start_time": "2019-09-15T19:04:56.354233Z"
    }
   },
   "outputs": [
    {
     "name": "stdout",
     "output_type": "stream",
     "text": [
      "Seq⟷Index\n"
     ]
    },
    {
     "data": {
      "text/plain": [
       "{'crocodile': 0, 'guineapig': 1, 'mouse': 2, 'rabbit': 3}"
      ]
     },
     "execution_count": 51,
     "metadata": {},
     "output_type": "execute_result"
    },
    {
     "data": {
      "text/plain": [
       "{0: 'crocodile', 1: 'guineapig', 2: 'mouse', 3: 'rabbit'}"
      ]
     },
     "execution_count": 51,
     "metadata": {},
     "output_type": "execute_result"
    },
    {
     "name": "stdout",
     "output_type": "stream",
     "text": [
      "Seq⟷Local\n"
     ]
    },
    {
     "data": {
      "text/plain": [
       "array([[1, 0, 0, 0],\n",
       "       [0, 1, 0, 0],\n",
       "       [0, 0, 1, 0],\n",
       "       [0, 0, 0, 1]], dtype=uint8)"
      ]
     },
     "execution_count": 51,
     "metadata": {},
     "output_type": "execute_result"
    },
    {
     "data": {
      "text/plain": [
       "array([0, 0, 1, 0], dtype=uint8)"
      ]
     },
     "execution_count": 51,
     "metadata": {},
     "output_type": "execute_result"
    },
    {
     "data": {
      "text/plain": [
       "array([0, 0, 1, 0], dtype=uint8)"
      ]
     },
     "execution_count": 51,
     "metadata": {},
     "output_type": "execute_result"
    },
    {
     "data": {
      "text/plain": [
       "{'crocodile': array([1, 0, 0, 0], dtype=uint8),\n",
       " 'guineapig': array([0, 1, 0, 0], dtype=uint8),\n",
       " 'mouse': array([0, 0, 1, 0], dtype=uint8),\n",
       " 'rabbit': array([0, 0, 0, 1], dtype=uint8)}"
      ]
     },
     "execution_count": 51,
     "metadata": {},
     "output_type": "execute_result"
    },
    {
     "data": {
      "text/plain": [
       "array([0, 0, 1, 0], dtype=uint8)"
      ]
     },
     "execution_count": 51,
     "metadata": {},
     "output_type": "execute_result"
    },
    {
     "data": {
      "text/plain": [
       "'mouse'"
      ]
     },
     "execution_count": 51,
     "metadata": {},
     "output_type": "execute_result"
    }
   ],
   "source": [
    "print('Seq⟷Index')\n",
    "seqToIndexMap(Animals_t)\n",
    "indexToSeqMap(Animals_t)\n",
    "\n",
    "print('Seq⟷Local')\n",
    "seqMapToOneHots(seqToIndexMap(Animals_t))\n",
    "xToOneHot('mouse', seqToIndexMap(Animals_t), seqMapToOneHots(seqToIndexMap(Animals_t)))\n",
    "animalToOH = partial(xToOneHot, seqMap = seqToIndexMap(Animals_t), oneHots = seqMapToOneHots(seqToIndexMap(Animals_t)))\n",
    "animalToOH('mouse')\n",
    "\n",
    "seqToOneHotMap(Animals_t)\n",
    "animalToOH_dict = seqToOneHotMap(Animals_t)\n",
    "animalToOH_dict['mouse']\n",
    "oneHotToSeqMap(Animals_t)(animalToOH_dict['mouse'])"
   ]
  },
  {
   "cell_type": "code",
   "execution_count": 42,
   "metadata": {
    "ExecuteTime": {
     "end_time": "2019-09-15T18:54:11.248505Z",
     "start_time": "2019-09-15T18:54:11.237676Z"
    }
   },
   "outputs": [
    {
     "data": {
      "text/plain": [
       "array([0, 0, 1, 0], dtype=uint8)"
      ]
     },
     "execution_count": 42,
     "metadata": {},
     "output_type": "execute_result"
    },
    {
     "data": {
      "text/plain": [
       "True"
      ]
     },
     "execution_count": 42,
     "metadata": {},
     "output_type": "execute_result"
    },
    {
     "data": {
      "text/plain": [
       "False"
      ]
     },
     "execution_count": 42,
     "metadata": {},
     "output_type": "execute_result"
    },
    {
     "data": {
      "text/plain": [
       "False"
      ]
     },
     "execution_count": 42,
     "metadata": {},
     "output_type": "execute_result"
    },
    {
     "data": {
      "text/plain": [
       "False"
      ]
     },
     "execution_count": 42,
     "metadata": {},
     "output_type": "execute_result"
    }
   ],
   "source": [
    "def local(activation_vector):\n",
    "    v = activation_vector\n",
    "    return v.sum() == 1 and len(v.nonzero()[0]) == 1\n",
    "\n",
    "seqToOneHotMap(Animals_t)['mouse']\n",
    "local(seqToOneHotMap(Animals_t)['mouse'])\n",
    "local(np.array([0, 1, 1]))\n",
    "local(np.array([0, 1, -1]))\n",
    "local(np.array([0, 0.5, -0.5]))"
   ]
  },
  {
   "cell_type": "markdown",
   "metadata": {},
   "source": [
    "# Sets / Boolean Algebra"
   ]
  },
  {
   "cell_type": "code",
   "execution_count": 44,
   "metadata": {
    "ExecuteTime": {
     "end_time": "2019-09-15T18:59:03.394103Z",
     "start_time": "2019-09-15T18:59:03.388798Z"
    }
   },
   "outputs": [
    {
     "data": {
      "text/plain": [
       "{'crocodile', 'guineapig', 'mouse', 'rabbit'}"
      ]
     },
     "execution_count": 44,
     "metadata": {},
     "output_type": "execute_result"
    }
   ],
   "source": [
    "Animals"
   ]
  },
  {
   "cell_type": "code",
   "execution_count": 63,
   "metadata": {
    "ExecuteTime": {
     "end_time": "2019-09-15T19:09:05.805164Z",
     "start_time": "2019-09-15T19:09:05.801009Z"
    }
   },
   "outputs": [
    {
     "data": {
      "text/plain": [
       "{'mouse': array([0, 0, 1, 0], dtype=uint8),\n",
       " 'rabbit': array([0, 0, 0, 1], dtype=uint8)}"
      ]
     },
     "execution_count": 63,
     "metadata": {},
     "output_type": "execute_result"
    },
    {
     "data": {
      "text/plain": [
       "(array([0, 0, 1, 0], dtype=uint8), array([0, 0, 0, 1], dtype=uint8))"
      ]
     },
     "execution_count": 63,
     "metadata": {},
     "output_type": "execute_result"
    }
   ],
   "source": [
    "In_The_Yard = {'mouse', 'rabbit'}\n",
    "\n",
    "{a:animalToOH(a) for a in In_The_Yard}\n",
    "\n",
    "In_The_Yard_OH = tuple(lmap(animalToOH, In_The_Yard))\n",
    "In_The_Yard_OH"
   ]
  },
  {
   "cell_type": "code",
   "execution_count": 46,
   "metadata": {
    "ExecuteTime": {
     "end_time": "2019-09-15T19:00:21.650487Z",
     "start_time": "2019-09-15T19:00:21.648406Z"
    }
   },
   "outputs": [],
   "source": [
    "def tpr_union(u, v):\n",
    "    return u + v"
   ]
  },
  {
   "cell_type": "code",
   "execution_count": 82,
   "metadata": {
    "ExecuteTime": {
     "end_time": "2019-09-15T19:26:45.153084Z",
     "start_time": "2019-09-15T19:26:45.146606Z"
    }
   },
   "outputs": [
    {
     "data": {
      "text/plain": [
       "array([0, 0, 1, 1], dtype=uint8)"
      ]
     },
     "execution_count": 82,
     "metadata": {},
     "output_type": "execute_result"
    },
    {
     "data": {
      "text/plain": [
       "True"
      ]
     },
     "execution_count": 82,
     "metadata": {},
     "output_type": "execute_result"
    }
   ],
   "source": [
    "In_The_Yard_tpr = reduce(tpr_union, In_The_Yard_OH)\n",
    "In_The_Yard_tpr\n",
    "\n",
    "np.array_equal( In_The_Yard_tpr, tpr_union(animalToOH('mouse'),\n",
    "                                           animalToOH('rabbit')) )"
   ]
  },
  {
   "cell_type": "code",
   "execution_count": 133,
   "metadata": {
    "ExecuteTime": {
     "end_time": "2019-09-15T20:31:53.671458Z",
     "start_time": "2019-09-15T20:31:53.665144Z"
    }
   },
   "outputs": [
    {
     "data": {
      "text/plain": [
       "array([2, 3])"
      ]
     },
     "execution_count": 133,
     "metadata": {},
     "output_type": "execute_result"
    },
    {
     "data": {
      "text/plain": [
       "{'mouse', 'rabbit'}"
      ]
     },
     "execution_count": 133,
     "metadata": {},
     "output_type": "execute_result"
    },
    {
     "data": {
      "text/plain": [
       "{'mouse', 'rabbit'}"
      ]
     },
     "execution_count": 133,
     "metadata": {},
     "output_type": "execute_result"
    }
   ],
   "source": [
    "def tpr_set_to_indices(S):\n",
    "    return S.nonzero()[0]\n",
    "\n",
    "tpr_set_to_indices(In_The_Yard_tpr)\n",
    "\n",
    "def tpr_set_to_labels(S, idx_to_seq):\n",
    "    indices = tpr_set_to_indices(S)\n",
    "    seqs = {idx_to_seq[idx] for idx in indices}\n",
    "    return seqs\n",
    "\n",
    "\n",
    "def Animal_set(animal_set_tpr):\n",
    "    return tpr_set_to_labels(animal_set_tpr, indexToSeqMap(Animals_t))\n",
    "\n",
    "tpr_set_to_labels(In_The_Yard_tpr, indexToSeqMap(Animals_t))\n",
    "Animal_set(In_The_Yard_tpr)\n",
    "\n",
    "\n",
    "def Food_set(food_set_tpr):\n",
    "    return tpr_set_to_labels(food_set_tpr, indexToSeqMap(Foods_t))\n",
    "\n",
    "def AnimalsFoods_set(AnimalsFoods_set_tpr):\n",
    "    return tpr_set_to_labels(AnimalsFoods_set_tpr, indexToSeqMap(AnimalsFoods_t))"
   ]
  },
  {
   "cell_type": "code",
   "execution_count": 78,
   "metadata": {
    "ExecuteTime": {
     "end_time": "2019-09-15T19:21:11.418194Z",
     "start_time": "2019-09-15T19:21:11.409204Z"
    }
   },
   "outputs": [
    {
     "data": {
      "text/plain": [
       "array([0, 0, 1, 0], dtype=uint8)"
      ]
     },
     "execution_count": 78,
     "metadata": {},
     "output_type": "execute_result"
    },
    {
     "data": {
      "text/plain": [
       "{'mouse'}"
      ]
     },
     "execution_count": 78,
     "metadata": {},
     "output_type": "execute_result"
    },
    {
     "data": {
      "text/plain": [
       "array([0, 0, 0, 0], dtype=uint8)"
      ]
     },
     "execution_count": 78,
     "metadata": {},
     "output_type": "execute_result"
    },
    {
     "data": {
      "text/plain": [
       "set()"
      ]
     },
     "execution_count": 78,
     "metadata": {},
     "output_type": "execute_result"
    }
   ],
   "source": [
    "def tpr_intersection(u, v):\n",
    "    return u * v\n",
    "\n",
    "tpr_intersection(In_The_Yard_tpr, animalToOH('mouse'))\n",
    "Animal_set(tpr_intersection(In_The_Yard_tpr, animalToOH('mouse')))\n",
    "\n",
    "tpr_intersection(In_The_Yard_tpr, animalToOH('crocodile'))\n",
    "Animal_set(tpr_intersection(In_The_Yard_tpr, animalToOH('crocodile')))"
   ]
  },
  {
   "cell_type": "code",
   "execution_count": 79,
   "metadata": {
    "ExecuteTime": {
     "end_time": "2019-09-15T19:21:23.253604Z",
     "start_time": "2019-09-15T19:21:23.243188Z"
    }
   },
   "outputs": [
    {
     "data": {
      "text/plain": [
       "array([0, 0, 1, 1], dtype=uint8)"
      ]
     },
     "execution_count": 79,
     "metadata": {},
     "output_type": "execute_result"
    },
    {
     "data": {
      "text/plain": [
       "array([0, 0, 0, 1], dtype=uint8)"
      ]
     },
     "execution_count": 79,
     "metadata": {},
     "output_type": "execute_result"
    },
    {
     "data": {
      "text/plain": [
       "{'rabbit'}"
      ]
     },
     "execution_count": 79,
     "metadata": {},
     "output_type": "execute_result"
    },
    {
     "data": {
      "text/plain": [
       "array([0, 0, 1, 0], dtype=uint8)"
      ]
     },
     "execution_count": 79,
     "metadata": {},
     "output_type": "execute_result"
    },
    {
     "data": {
      "text/plain": [
       "array([0, 0, 0, 1], dtype=uint8)"
      ]
     },
     "execution_count": 79,
     "metadata": {},
     "output_type": "execute_result"
    }
   ],
   "source": [
    "def tpr_subtraction(u,v):\n",
    "    return u - v\n",
    "\n",
    "In_The_Yard_tpr\n",
    "tpr_subtraction(In_The_Yard_tpr, animalToOH('mouse'))\n",
    "Animal_set(tpr_subtraction(In_The_Yard_tpr, animalToOH('mouse')))\n",
    "animalToOH('mouse')\n",
    "animalToOH('rabbit')"
   ]
  },
  {
   "cell_type": "code",
   "execution_count": 80,
   "metadata": {
    "ExecuteTime": {
     "end_time": "2019-09-15T19:21:31.715420Z",
     "start_time": "2019-09-15T19:21:31.708249Z"
    }
   },
   "outputs": [
    {
     "data": {
      "text/plain": [
       "array([0, 0, 1, 1], dtype=uint8)"
      ]
     },
     "execution_count": 80,
     "metadata": {},
     "output_type": "execute_result"
    },
    {
     "data": {
      "text/plain": [
       "array([1, 1, 0, 0], dtype=uint8)"
      ]
     },
     "execution_count": 80,
     "metadata": {},
     "output_type": "execute_result"
    },
    {
     "data": {
      "text/plain": [
       "{'crocodile', 'guineapig'}"
      ]
     },
     "execution_count": 80,
     "metadata": {},
     "output_type": "execute_result"
    }
   ],
   "source": [
    "def tpr_complement(u):\n",
    "    return np.ones(len(u), dtype=np.uint8) - u\n",
    "\n",
    "In_The_Yard_tpr\n",
    "tpr_complement(In_The_Yard_tpr)\n",
    "Animal_set(tpr_complement(In_The_Yard_tpr))"
   ]
  },
  {
   "cell_type": "markdown",
   "metadata": {},
   "source": [
    "# (...multi-valued) functions (\"Filler/role bindings\")"
   ]
  },
  {
   "cell_type": "code",
   "execution_count": 87,
   "metadata": {
    "ExecuteTime": {
     "end_time": "2019-09-15T19:34:03.586765Z",
     "start_time": "2019-09-15T19:34:03.572670Z"
    }
   },
   "outputs": [
    {
     "data": {
      "text/plain": [
       "{'Animal', 'Food'}"
      ]
     },
     "execution_count": 87,
     "metadata": {},
     "output_type": "execute_result"
    },
    {
     "data": {
      "text/plain": [
       "{'Animal': array([1, 0], dtype=uint8), 'Food': array([0, 1], dtype=uint8)}"
      ]
     },
     "execution_count": 87,
     "metadata": {},
     "output_type": "execute_result"
    }
   ],
   "source": [
    "Roles = set(animal_food_dl[0].keys())\n",
    "Roles\n",
    "\n",
    "Roles_t = tuple(sorted(Roles))\n",
    "\n",
    "roleToOH = partial(xToOneHot, seqMap = seqToIndexMap(Roles_t), oneHots = seqMapToOneHots(seqToIndexMap(Roles_t)))\n",
    "roleToOH_dict = seqToOneHotMap(Roles_t)\n",
    "roleToOH_dict"
   ]
  },
  {
   "cell_type": "code",
   "execution_count": 106,
   "metadata": {
    "ExecuteTime": {
     "end_time": "2019-09-15T19:51:22.268309Z",
     "start_time": "2019-09-15T19:51:22.258501Z"
    }
   },
   "outputs": [
    {
     "data": {
      "text/plain": [
       "{'carrot': array([1, 0, 0, 0, 0], dtype=uint8),\n",
       " 'cheese': array([0, 1, 0, 0, 0], dtype=uint8),\n",
       " 'lecturer': array([0, 0, 1, 0, 0], dtype=uint8),\n",
       " 'lettuce': array([0, 0, 0, 1, 0], dtype=uint8),\n",
       " 'student': array([0, 0, 0, 0, 1], dtype=uint8)}"
      ]
     },
     "execution_count": 106,
     "metadata": {},
     "output_type": "execute_result"
    }
   ],
   "source": [
    "foodToOH = partial(xToOneHot, seqMap = seqToIndexMap(Foods_t), oneHots = seqMapToOneHots(seqToIndexMap(Foods_t)))\n",
    "foodToOH_dict = seqToOneHotMap(Foods_t)\n",
    "foodToOH_dict"
   ]
  },
  {
   "cell_type": "code",
   "execution_count": 123,
   "metadata": {
    "ExecuteTime": {
     "end_time": "2019-09-15T20:03:27.062233Z",
     "start_time": "2019-09-15T20:03:27.056379Z"
    }
   },
   "outputs": [
    {
     "data": {
      "text/plain": [
       "{'Animal': 'rabbit', 'Food': 'carrot'}"
      ]
     },
     "execution_count": 123,
     "metadata": {},
     "output_type": "execute_result"
    },
    {
     "data": {
      "text/plain": [
       "{'Animal': 'rabbit', 'Food': 'lettuce'}"
      ]
     },
     "execution_count": 123,
     "metadata": {},
     "output_type": "execute_result"
    }
   ],
   "source": [
    "animal_food_dl[0]\n",
    "animal_food_dl[3]"
   ]
  },
  {
   "cell_type": "markdown",
   "metadata": {},
   "source": [
    "## Storage"
   ]
  },
  {
   "cell_type": "code",
   "execution_count": 119,
   "metadata": {
    "ExecuteTime": {
     "end_time": "2019-09-15T20:02:50.491401Z",
     "start_time": "2019-09-15T20:02:50.481331Z"
    }
   },
   "outputs": [
    {
     "name": "stdout",
     "output_type": "stream",
     "text": [
      "rabbit/Animal \n"
     ]
    },
    {
     "data": {
      "text/plain": [
       "array([0, 0, 0, 1], dtype=uint8)"
      ]
     },
     "execution_count": 119,
     "metadata": {},
     "output_type": "execute_result"
    },
    {
     "data": {
      "text/plain": [
       "array([1, 0], dtype=uint8)"
      ]
     },
     "execution_count": 119,
     "metadata": {},
     "output_type": "execute_result"
    },
    {
     "data": {
      "text/plain": [
       "array([[0, 0],\n",
       "       [0, 0],\n",
       "       [0, 0],\n",
       "       [1, 0]], dtype=uint8)"
      ]
     },
     "execution_count": 119,
     "metadata": {},
     "output_type": "execute_result"
    },
    {
     "data": {
      "text/plain": [
       "array([[0, 0],\n",
       "       [0, 0],\n",
       "       [0, 0],\n",
       "       [1, 0]], dtype=uint8)"
      ]
     },
     "execution_count": 119,
     "metadata": {},
     "output_type": "execute_result"
    }
   ],
   "source": [
    "print('rabbit/Animal', '')\n",
    "animalToOH_dict['rabbit'] #filler\n",
    "roleToOH_dict['Animal'] #role = variable\n",
    "\n",
    "# fv.T corresponding to \"rabbit/Animal\"\n",
    "np.matmul(animalToOH_dict['rabbit'][:, None], roleToOH_dict['Animal'][:, None].T)\n",
    "np.outer(animalToOH_dict['rabbit'], roleToOH_dict['Animal'])\n",
    "\n",
    "rabbit_Animal = np.outer(animalToOH_dict['rabbit'], roleToOH_dict['Animal'])"
   ]
  },
  {
   "cell_type": "code",
   "execution_count": 138,
   "metadata": {
    "ExecuteTime": {
     "end_time": "2019-09-15T20:40:11.405992Z",
     "start_time": "2019-09-15T20:40:11.394048Z"
    }
   },
   "outputs": [
    {
     "data": {
      "text/plain": [
       "array([[0, 0],\n",
       "       [0, 0],\n",
       "       [0, 0],\n",
       "       [1, 0]], dtype=uint8)"
      ]
     },
     "execution_count": 138,
     "metadata": {},
     "output_type": "execute_result"
    }
   ],
   "source": [
    "def bind_filler_to_role(filler_vector, role_vector):\n",
    "    return np.outer(filler_vector, role_vector)\n",
    "\n",
    "bind_filler_to_role(animalToOH_dict['rabbit'], roleToOH_dict['Animal'])"
   ]
  },
  {
   "cell_type": "code",
   "execution_count": 120,
   "metadata": {
    "ExecuteTime": {
     "end_time": "2019-09-15T20:02:51.047544Z",
     "start_time": "2019-09-15T20:02:51.038282Z"
    }
   },
   "outputs": [
    {
     "name": "stdout",
     "output_type": "stream",
     "text": [
      "carrot+lettuce/Food \n"
     ]
    },
    {
     "data": {
      "text/plain": [
       "array([1, 0, 0, 0, 0], dtype=uint8)"
      ]
     },
     "execution_count": 120,
     "metadata": {},
     "output_type": "execute_result"
    },
    {
     "data": {
      "text/plain": [
       "array([0, 0, 0, 1, 0], dtype=uint8)"
      ]
     },
     "execution_count": 120,
     "metadata": {},
     "output_type": "execute_result"
    },
    {
     "data": {
      "text/plain": [
       "array([1, 0, 0, 1, 0], dtype=uint8)"
      ]
     },
     "execution_count": 120,
     "metadata": {},
     "output_type": "execute_result"
    },
    {
     "data": {
      "text/plain": [
       "array([0, 1], dtype=uint8)"
      ]
     },
     "execution_count": 120,
     "metadata": {},
     "output_type": "execute_result"
    },
    {
     "data": {
      "text/plain": [
       "array([[0, 1],\n",
       "       [0, 0],\n",
       "       [0, 0],\n",
       "       [0, 1],\n",
       "       [0, 0]], dtype=uint8)"
      ]
     },
     "execution_count": 120,
     "metadata": {},
     "output_type": "execute_result"
    },
    {
     "data": {
      "text/plain": [
       "array([[0, 1],\n",
       "       [0, 0],\n",
       "       [0, 0],\n",
       "       [0, 1],\n",
       "       [0, 0]], dtype=uint8)"
      ]
     },
     "execution_count": 120,
     "metadata": {},
     "output_type": "execute_result"
    }
   ],
   "source": [
    "print('carrot+lettuce/Food', '')\n",
    "foodToOH_dict['carrot']\n",
    "foodToOH_dict['lettuce']\n",
    "tpr_union(foodToOH_dict['carrot'], foodToOH_dict['lettuce'])\n",
    "roleToOH_dict['Food']\n",
    "np.matmul(tpr_union(foodToOH_dict['carrot'], foodToOH_dict['lettuce'])[:, None],\n",
    "          roleToOH_dict['Food'][:, None].T)\n",
    "np.outer(foodToOH_dict['carrot'] + foodToOH_dict['lettuce'],\n",
    "         roleToOH_dict['Food'])\n",
    "\n",
    "carrotLettuce_Food = np.outer(foodToOH_dict['carrot'] + foodToOH_dict['lettuce'],\n",
    "                              roleToOH_dict['Food'])"
   ]
  },
  {
   "cell_type": "code",
   "execution_count": 130,
   "metadata": {
    "ExecuteTime": {
     "end_time": "2019-09-15T20:17:27.414114Z",
     "start_time": "2019-09-15T20:17:27.401919Z"
    }
   },
   "outputs": [
    {
     "data": {
      "text/plain": [
       "{'Animal': 'rabbit', 'Food': 'carrot'}"
      ]
     },
     "execution_count": 130,
     "metadata": {},
     "output_type": "execute_result"
    },
    {
     "data": {
      "text/plain": [
       "{'Animal': 'rabbit', 'Food': 'lettuce'}"
      ]
     },
     "execution_count": 130,
     "metadata": {},
     "output_type": "execute_result"
    },
    {
     "data": {
      "text/plain": [
       "{'carrot': array([1, 0, 0, 0, 0, 0, 0, 0, 0], dtype=uint8),\n",
       " 'cheese': array([0, 1, 0, 0, 0, 0, 0, 0, 0], dtype=uint8),\n",
       " 'crocodile': array([0, 0, 1, 0, 0, 0, 0, 0, 0], dtype=uint8),\n",
       " 'guineapig': array([0, 0, 0, 1, 0, 0, 0, 0, 0], dtype=uint8),\n",
       " 'lecturer': array([0, 0, 0, 0, 1, 0, 0, 0, 0], dtype=uint8),\n",
       " 'lettuce': array([0, 0, 0, 0, 0, 1, 0, 0, 0], dtype=uint8),\n",
       " 'mouse': array([0, 0, 0, 0, 0, 0, 1, 0, 0], dtype=uint8),\n",
       " 'rabbit': array([0, 0, 0, 0, 0, 0, 0, 1, 0], dtype=uint8),\n",
       " 'student': array([0, 0, 0, 0, 0, 0, 0, 0, 1], dtype=uint8)}"
      ]
     },
     "execution_count": 130,
     "metadata": {},
     "output_type": "execute_result"
    },
    {
     "data": {
      "text/plain": [
       "array([[0, 0],\n",
       "       [0, 0],\n",
       "       [0, 0],\n",
       "       [0, 0],\n",
       "       [0, 0],\n",
       "       [0, 0],\n",
       "       [0, 0],\n",
       "       [1, 0],\n",
       "       [0, 0]], dtype=uint8)"
      ]
     },
     "execution_count": 130,
     "metadata": {},
     "output_type": "execute_result"
    },
    {
     "data": {
      "text/plain": [
       "array([[0, 1],\n",
       "       [0, 0],\n",
       "       [0, 0],\n",
       "       [0, 0],\n",
       "       [0, 0],\n",
       "       [0, 1],\n",
       "       [0, 0],\n",
       "       [0, 0],\n",
       "       [0, 0]], dtype=uint8)"
      ]
     },
     "execution_count": 130,
     "metadata": {},
     "output_type": "execute_result"
    },
    {
     "data": {
      "text/plain": [
       "array([[0, 1],\n",
       "       [0, 0],\n",
       "       [0, 0],\n",
       "       [0, 0],\n",
       "       [0, 0],\n",
       "       [0, 1],\n",
       "       [0, 0],\n",
       "       [1, 0],\n",
       "       [0, 0]], dtype=uint8)"
      ]
     },
     "execution_count": 130,
     "metadata": {},
     "output_type": "execute_result"
    }
   ],
   "source": [
    "animal_food_dl[0]\n",
    "animal_food_dl[3]\n",
    "\n",
    "animalFoodToOH = partial(xToOneHot, seqMap = seqToIndexMap(AnimalsFoods_t), oneHots = seqMapToOneHots(seqToIndexMap(AnimalsFoods_t)))\n",
    "animalFoodToOH_dict = seqToOneHotMap(AnimalsFoods_t)\n",
    "animalFoodToOH_dict\n",
    "\n",
    "rabbit_Animal_full = np.outer(animalFoodToOH_dict['rabbit'], roleToOH_dict['Animal'])\n",
    "rabbit_Animal_full\n",
    "\n",
    "carrotLettuce_Food_full = np.outer(animalFoodToOH_dict['carrot'] + animalFoodToOH_dict['lettuce'],\n",
    "                                   roleToOH_dict['Food'])\n",
    "carrotLettuce_Food_full\n",
    "\n",
    "rabbit_Animal__carrotLettuce_Food = rabbit_Animal_full + carrotLettuce_Food_full\n",
    "rabbit_Animal__carrotLettuce_Food"
   ]
  },
  {
   "cell_type": "markdown",
   "metadata": {},
   "source": [
    "## Retrieval"
   ]
  },
  {
   "cell_type": "code",
   "execution_count": 135,
   "metadata": {
    "ExecuteTime": {
     "end_time": "2019-09-15T20:32:42.224486Z",
     "start_time": "2019-09-15T20:32:42.216257Z"
    }
   },
   "outputs": [
    {
     "data": {
      "text/plain": [
       "array([0, 0, 0, 0, 0, 0, 0, 1, 0], dtype=uint8)"
      ]
     },
     "execution_count": 135,
     "metadata": {},
     "output_type": "execute_result"
    },
    {
     "data": {
      "text/plain": [
       "{'rabbit'}"
      ]
     },
     "execution_count": 135,
     "metadata": {},
     "output_type": "execute_result"
    },
    {
     "data": {
      "text/plain": [
       "array([1, 0, 0, 0, 0, 1, 0, 0, 0], dtype=uint8)"
      ]
     },
     "execution_count": 135,
     "metadata": {},
     "output_type": "execute_result"
    },
    {
     "data": {
      "text/plain": [
       "{'carrot', 'lettuce'}"
      ]
     },
     "execution_count": 135,
     "metadata": {},
     "output_type": "execute_result"
    }
   ],
   "source": [
    "#retrieve Animal value\n",
    "np.dot(rabbit_Animal__carrotLettuce_Food, \n",
    "       roleToOH_dict['Animal'])\n",
    "AnimalsFoods_set(np.dot(rabbit_Animal__carrotLettuce_Food, roleToOH_dict['Animal']))\n",
    "\n",
    "#retrieve Food value\n",
    "np.dot(rabbit_Animal__carrotLettuce_Food, \n",
    "       roleToOH_dict['Food'])\n",
    "AnimalsFoods_set(np.dot(rabbit_Animal__carrotLettuce_Food, roleToOH_dict['Food']))"
   ]
  },
  {
   "cell_type": "code",
   "execution_count": 136,
   "metadata": {
    "ExecuteTime": {
     "end_time": "2019-09-15T20:37:57.410192Z",
     "start_time": "2019-09-15T20:37:57.404396Z"
    }
   },
   "outputs": [
    {
     "data": {
      "text/plain": [
       "array([0, 0, 0, 0, 0, 0, 0, 1, 0], dtype=uint8)"
      ]
     },
     "execution_count": 136,
     "metadata": {},
     "output_type": "execute_result"
    }
   ],
   "source": [
    "def retrieve_filler(binding_matrix, role_vector):\n",
    "    return np.dot(binding_matrix, role_vector)\n",
    "\n",
    "retrieve_filler(rabbit_Animal__carrotLettuce_Food,\n",
    "                roleToOH_dict['Animal'])"
   ]
  },
  {
   "cell_type": "code",
   "execution_count": 137,
   "metadata": {
    "ExecuteTime": {
     "end_time": "2019-09-15T20:38:49.516168Z",
     "start_time": "2019-09-15T20:38:49.510047Z"
    }
   },
   "outputs": [
    {
     "data": {
      "text/plain": [
       "1"
      ]
     },
     "execution_count": 137,
     "metadata": {},
     "output_type": "execute_result"
    }
   ],
   "source": [
    "def role_has_filler(binding_matrix, role_vector, filler_vector):\n",
    "    return np.dot(retrieve_filler(binding_matrix, role_vector), filler_vector)\n",
    "\n",
    "role_has_filler(rabbit_Animal__carrotLettuce_Food,\n",
    "                roleToOH_dict['Animal'],\n",
    "                animalFoodToOH_dict['rabbit'])"
   ]
  },
  {
   "cell_type": "code",
   "execution_count": 140,
   "metadata": {
    "ExecuteTime": {
     "end_time": "2019-09-15T20:47:12.735574Z",
     "start_time": "2019-09-15T20:47:12.730054Z"
    }
   },
   "outputs": [
    {
     "data": {
      "text/plain": [
       "({'mouse': {'cheese'}},\n",
       " {'crocodile': {'lecturer', 'student'}},\n",
       " {'rabbit': {'carrot', 'lettuce'}},\n",
       " {'guineapig': {'carrot'}})"
      ]
     },
     "execution_count": 140,
     "metadata": {},
     "output_type": "execute_result"
    }
   ],
   "source": [
    "animal_foods_dict"
   ]
  },
  {
   "cell_type": "code",
   "execution_count": 141,
   "metadata": {
    "ExecuteTime": {
     "end_time": "2019-09-15T20:50:06.876322Z",
     "start_time": "2019-09-15T20:50:06.873165Z"
    }
   },
   "outputs": [
    {
     "data": {
      "text/plain": [
       "array([[0, 0, 0, 0],\n",
       "       [0, 0, 0, 0],\n",
       "       [0, 0, 0, 0],\n",
       "       [0, 0, 0, 0],\n",
       "       [0, 0, 0, 0]], dtype=uint8)"
      ]
     },
     "execution_count": 141,
     "metadata": {},
     "output_type": "execute_result"
    }
   ],
   "source": [
    "Animal_Foods = np.zeros((len(Foods), len(Animals)), dtype=np.uint8)\n",
    "Animal_Foods"
   ]
  },
  {
   "cell_type": "code",
   "execution_count": null,
   "metadata": {},
   "outputs": [],
   "source": [
    "In_The_Yard_OH = tuple(lmap(animalToOH, In_The_Yard))\n",
    "In_The_Yard_tpr = reduce(tpr_union, In_The_Yard_OH)"
   ]
  },
  {
   "cell_type": "code",
   "execution_count": 143,
   "metadata": {
    "ExecuteTime": {
     "end_time": "2019-09-15T20:56:20.647510Z",
     "start_time": "2019-09-15T20:56:20.642597Z"
    }
   },
   "outputs": [
    {
     "data": {
      "text/plain": [
       "({'mouse': {'cheese'}},\n",
       " {'crocodile': {'lecturer', 'student'}},\n",
       " {'rabbit': {'carrot', 'lettuce'}},\n",
       " {'guineapig': {'carrot'}})"
      ]
     },
     "execution_count": 143,
     "metadata": {},
     "output_type": "execute_result"
    }
   ],
   "source": [
    "animal_foods_dict"
   ]
  },
  {
   "cell_type": "code",
   "execution_count": 183,
   "metadata": {
    "ExecuteTime": {
     "end_time": "2019-09-15T21:46:07.143045Z",
     "start_time": "2019-09-15T21:46:07.136398Z"
    }
   },
   "outputs": [
    {
     "data": {
      "text/plain": [
       "array([[0, 2, 0, 2],\n",
       "       [0, 0, 2, 0],\n",
       "       [2, 0, 0, 0],\n",
       "       [0, 0, 0, 2],\n",
       "       [2, 0, 0, 0]], dtype=uint8)"
      ]
     },
     "execution_count": 183,
     "metadata": {},
     "output_type": "execute_result"
    }
   ],
   "source": [
    "for animal in animal_foods_dict:\n",
    "    foods = animal_foods_dict[animal]\n",
    "    \n",
    "    role = animal\n",
    "    filler = foods\n",
    "    \n",
    "    filler_OHs = tuple(lmap(foodToOH, foods))\n",
    "    filler_tpr = reduce(tpr_union, filler_OHs)\n",
    "    \n",
    "    filler_vector = filler_tpr\n",
    "#     filler_vector = foodToOH_dict[filler]\n",
    "    role_vector = animalToOH_dict[role]\n",
    "    \n",
    "    Animal_Foods += bind_filler_to_role(filler_vector, role_vector)\n",
    "\n",
    "del foods\n",
    "del role\n",
    "del filler\n",
    "del filler_OHs\n",
    "del filler_tpr\n",
    "del filler_vector\n",
    "del role_vector\n",
    "\n",
    "Animal_Foods"
   ]
  },
  {
   "cell_type": "code",
   "execution_count": 184,
   "metadata": {
    "ExecuteTime": {
     "end_time": "2019-09-15T21:46:11.135926Z",
     "start_time": "2019-09-15T21:46:11.121926Z"
    }
   },
   "outputs": [
    {
     "data": {
      "text/plain": [
       "array([2, 0, 0, 2, 0], dtype=uint8)"
      ]
     },
     "execution_count": 184,
     "metadata": {},
     "output_type": "execute_result"
    },
    {
     "data": {
      "text/plain": [
       "{'carrot', 'lettuce'}"
      ]
     },
     "execution_count": 184,
     "metadata": {},
     "output_type": "execute_result"
    }
   ],
   "source": [
    "retrieve_filler(Animal_Foods, \n",
    "                animalToOH_dict['rabbit'])\n",
    "\n",
    "Food_set(retrieve_filler(Animal_Foods, animalToOH_dict['rabbit']))"
   ]
  },
  {
   "cell_type": "code",
   "execution_count": 185,
   "metadata": {
    "ExecuteTime": {
     "end_time": "2019-09-15T21:46:11.400616Z",
     "start_time": "2019-09-15T21:46:11.390069Z"
    }
   },
   "outputs": [
    {
     "data": {
      "text/plain": [
       "array([1, 0, 0, 0, 0], dtype=uint8)"
      ]
     },
     "execution_count": 185,
     "metadata": {},
     "output_type": "execute_result"
    },
    {
     "data": {
      "text/plain": [
       "0"
      ]
     },
     "execution_count": 185,
     "metadata": {},
     "output_type": "execute_result"
    },
    {
     "data": {
      "text/plain": [
       "array([0, 1, 0, 1], dtype=uint8)"
      ]
     },
     "execution_count": 185,
     "metadata": {},
     "output_type": "execute_result"
    },
    {
     "data": {
      "text/plain": [
       "{'guineapig', 'rabbit'}"
      ]
     },
     "execution_count": 185,
     "metadata": {},
     "output_type": "execute_result"
    }
   ],
   "source": [
    "def retrieve_roles_with_filler_index(binding_matrix, filler_index):\n",
    "    role_indices = binding_matrix[filler_index].nonzero()[0]\n",
    "    n_roles = Animal_Foods.shape[1]\n",
    "    role_tpr = np.zeros(n_roles, dtype = np.uint8)\n",
    "    np.put(role_tpr, role_indices, 1)\n",
    "    return role_tpr\n",
    "\n",
    "foodToOH_dict['carrot']\n",
    "foodToOH_dict['carrot'].nonzero()[0].item()\n",
    "retrieve_roles_with_filler_index(Animal_Foods,\n",
    "                                 foodToOH_dict['carrot'].nonzero()[0].item())\n",
    "Animal_set(retrieve_roles_with_filler_index(Animal_Foods,\n",
    "                                            foodToOH_dict['carrot'].nonzero()[0].item()))"
   ]
  },
  {
   "cell_type": "markdown",
   "metadata": {},
   "source": [
    "# Distributed Representations"
   ]
  },
  {
   "cell_type": "code",
   "execution_count": 174,
   "metadata": {
    "ExecuteTime": {
     "end_time": "2019-09-15T21:42:11.524031Z",
     "start_time": "2019-09-15T21:42:10.941389Z"
    }
   },
   "outputs": [],
   "source": [
    "from scipy.linalg import hadamard"
   ]
  },
  {
   "cell_type": "code",
   "execution_count": 187,
   "metadata": {
    "ExecuteTime": {
     "end_time": "2019-09-15T21:46:47.458603Z",
     "start_time": "2019-09-15T21:46:47.452082Z"
    }
   },
   "outputs": [
    {
     "data": {
      "text/plain": [
       "array([[ 2.82842712,  2.82842712,  2.82842712,  2.82842712,  2.82842712,\n",
       "         2.82842712,  2.82842712,  2.82842712],\n",
       "       [ 2.82842712, -2.82842712,  2.82842712, -2.82842712,  2.82842712,\n",
       "        -2.82842712,  2.82842712, -2.82842712],\n",
       "       [ 2.82842712,  2.82842712, -2.82842712, -2.82842712,  2.82842712,\n",
       "         2.82842712, -2.82842712, -2.82842712],\n",
       "       [ 2.82842712, -2.82842712, -2.82842712,  2.82842712,  2.82842712,\n",
       "        -2.82842712, -2.82842712,  2.82842712],\n",
       "       [ 2.82842712,  2.82842712,  2.82842712,  2.82842712, -2.82842712,\n",
       "        -2.82842712, -2.82842712, -2.82842712],\n",
       "       [ 2.82842712, -2.82842712,  2.82842712, -2.82842712, -2.82842712,\n",
       "         2.82842712, -2.82842712,  2.82842712],\n",
       "       [ 2.82842712,  2.82842712, -2.82842712, -2.82842712, -2.82842712,\n",
       "        -2.82842712,  2.82842712,  2.82842712],\n",
       "       [ 2.82842712, -2.82842712, -2.82842712,  2.82842712, -2.82842712,\n",
       "         2.82842712,  2.82842712, -2.82842712]])"
      ]
     },
     "execution_count": 187,
     "metadata": {},
     "output_type": "execute_result"
    }
   ],
   "source": [
    "def next_power_of_2(x):\n",
    "    power = 1;\n",
    "    while(power < x):\n",
    "        power *= 2\n",
    "    return power\n",
    "\n",
    "def distributed_basis(S):\n",
    "    n = len(S)\n",
    "    N = next_power_of_2(n)\n",
    "    return np.sqrt(N) * hadamard(N)\n",
    "\n",
    "distributed_basis(Foods)"
   ]
  },
  {
   "cell_type": "code",
   "execution_count": 194,
   "metadata": {
    "ExecuteTime": {
     "end_time": "2019-09-15T21:53:41.265461Z",
     "start_time": "2019-09-15T21:53:41.246205Z"
    }
   },
   "outputs": [
    {
     "data": {
      "text/plain": [
       "{'rabbit': {'carrot'}, 'cat': {'mouse'}}"
      ]
     },
     "execution_count": 194,
     "metadata": {},
     "output_type": "execute_result"
    },
    {
     "data": {
      "text/plain": [
       "array([[ 0.5,  0.5,  0.5,  0.5],\n",
       "       [ 0.5, -0.5,  0.5, -0.5],\n",
       "       [ 0.5,  0.5, -0.5, -0.5],\n",
       "       [ 0.5, -0.5, -0.5,  0.5]])"
      ]
     },
     "execution_count": 194,
     "metadata": {},
     "output_type": "execute_result"
    }
   ],
   "source": [
    "carrot_rabbit__mouse_cat = {\n",
    "    'rabbit':{'carrot'},\n",
    "    'cat':{'mouse'}\n",
    "}\n",
    "carrot_rabbit__mouse_cat\n",
    "\n",
    "CarrotRabbitMouseCat = {'carrot', 'rabbit', 'mouse', 'cat'}\n",
    "CarrotRabbitMouseCat_t = ('rabbit', 'mouse', 'carrot', 'cat') #following along with https://www.cse.unsw.edu.au/~billw/cs9444/tensor-stuff/tensor-intro-04.html\n",
    "CarrotRabbitMouseCat_b = distributed_basis(CarrotRabbitMouseCat_t) / 4\n",
    "CarrotRabbitMouseCat_b"
   ]
  },
  {
   "cell_type": "code",
   "execution_count": 206,
   "metadata": {
    "ExecuteTime": {
     "end_time": "2019-09-15T21:57:47.022366Z",
     "start_time": "2019-09-15T21:57:47.011513Z"
    }
   },
   "outputs": [
    {
     "data": {
      "text/plain": [
       "array([ 0.5,  0.5, -0.5, -0.5])"
      ]
     },
     "execution_count": 206,
     "metadata": {},
     "output_type": "execute_result"
    },
    {
     "data": {
      "text/plain": [
       "array([0.5, 0.5, 0.5, 0.5])"
      ]
     },
     "execution_count": 206,
     "metadata": {},
     "output_type": "execute_result"
    },
    {
     "data": {
      "text/plain": [
       "array([[ 1,  1,  1,  1],\n",
       "       [ 1,  1,  1,  1],\n",
       "       [-1, -1, -1, -1],\n",
       "       [-1, -1, -1, -1]], dtype=int8)"
      ]
     },
     "execution_count": 206,
     "metadata": {},
     "output_type": "execute_result"
    },
    {
     "data": {
      "text/plain": [
       "array([ 0.5,  0.5, -0.5, -0.5])"
      ]
     },
     "execution_count": 206,
     "metadata": {},
     "output_type": "execute_result"
    },
    {
     "data": {
      "text/plain": [
       "array([ 0.5,  0.5, -0.5, -0.5])"
      ]
     },
     "execution_count": 206,
     "metadata": {},
     "output_type": "execute_result"
    }
   ],
   "source": [
    "CarrotRabbitMouseCat_b[CarrotRabbitMouseCat_t.index('carrot')]\n",
    "CarrotRabbitMouseCat_b[CarrotRabbitMouseCat_t.index('rabbit')]\n",
    "carrot_rabbit = bind_filler_to_role(CarrotRabbitMouseCat_b[CarrotRabbitMouseCat_t.index('carrot')],\n",
    "                                    CarrotRabbitMouseCat_b[CarrotRabbitMouseCat_t.index('rabbit')])\n",
    "(4 * carrot_rabbit).astype(np.int8)\n",
    "\n",
    "retrieve_filler(carrot_rabbit, CarrotRabbitMouseCat_b[CarrotRabbitMouseCat_t.index('rabbit')])\n",
    "CarrotRabbitMouseCat_b[CarrotRabbitMouseCat_t.index('carrot')]"
   ]
  },
  {
   "cell_type": "code",
   "execution_count": null,
   "metadata": {},
   "outputs": [],
   "source": []
  }
 ],
 "metadata": {
  "kernelspec": {
   "display_name": "Python 3",
   "language": "python",
   "name": "python3"
  },
  "language_info": {
   "codemirror_mode": {
    "name": "ipython",
    "version": 3
   },
   "file_extension": ".py",
   "mimetype": "text/x-python",
   "name": "python",
   "nbconvert_exporter": "python",
   "pygments_lexer": "ipython3",
   "version": "3.7.3"
  },
  "notify_time": "5",
  "toc": {
   "base_numbering": 1,
   "nav_menu": {},
   "number_sections": true,
   "sideBar": true,
   "skip_h1_title": false,
   "title_cell": "Table of Contents",
   "title_sidebar": "Contents",
   "toc_cell": false,
   "toc_position": {},
   "toc_section_display": true,
   "toc_window_display": false
  }
 },
 "nbformat": 4,
 "nbformat_minor": 2
}
